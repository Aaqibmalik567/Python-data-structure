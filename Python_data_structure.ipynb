{
  "nbformat": 4,
  "nbformat_minor": 0,
  "metadata": {
    "colab": {
      "provenance": []
    },
    "kernelspec": {
      "name": "python3",
      "display_name": "Python 3"
    },
    "language_info": {
      "name": "python"
    }
  },
  "cells": [
    {
      "cell_type": "markdown",
      "source": [
        "1. What are data structures, and why are they important?\n",
        "\n",
        "- Data structures are special formats or containers for organizing, storing, and managing data in Python so you can use it effectively. Python comes with several built-in data structures that are very powerful and easy to use.\n",
        "\n",
        "2. Explain the difference between mutable and immutable data types with examples\n",
        "\n",
        "- In Python, data types can be classified as either mutable or immutable, depending on whether their values can be changed after they are created.\n",
        "\n",
        "Mutable data types are those that can be altered in place without creating a new object. This means you can modify their contents, such as adding, removing, or changing elements, and the object’s identity (its memory address) remains the same\n",
        "\n",
        "immutable data types cannot be changed after they are created. Any operation that seems to modify an immutable object will actually create a new object with the updated value. Examples of immutable types include integers, floats, strings, tuples, and booleans. For example, if you try to change a string, Python will create a new string and assign it to the variable, leaving the original unchanged.\n",
        "\n",
        "3. What are the main differences between lists and tuples in Python\n",
        "\n",
        "- In Python, lists and tuples are both used to store multiple items in a single variable, but they differ mainly in mutability, syntax, and performance. The most important difference is that lists are mutable, which means you can change, add, or remove elements after the list has been created. In contrast, tuples are immutable, so once a tuple is created, its contents cannot be modified. This makes tuples more secure and reliable for storing fixed collections of items.\n",
        "\n",
        "Another difference is in their syntax: lists use square brackets ([]), while tuples use parentheses (()). For example, a list looks like my_list = [1, 2, 3], and a tuple looks like my_tuple = (1, 2, 3).\n",
        "\n",
        "4. Describe how dictionaries store data?\n",
        "\n",
        "- In Python, dictionaries store data in the form of key-value pairs, which means each piece of data (the value) is accessed through a unique identifier (the key). This structure allows for very fast and efficient data retrieval, especially when compared to lists where you search by index or value.\n",
        "\n",
        "5. Why might you use a set instead of a list in Python\n",
        "\n",
        "- You might use a set instead of a list in Python when you need to store unique items and perform fast membership checks. Unlike lists, sets automatically remove duplicate values, making them ideal when you want to ensure that all elements in your collection are unique. For example, if you have a list with repeated items and you convert it into a set, Python will automatically filter out the duplicates.\n",
        "\n",
        "6. What is a string in Python, and how is it different from a list\n",
        "\n",
        "- In Python, a string is a sequence of characters enclosed in quotes, such as single (') or double (\"). Strings are used to represent textual data—like words, sentences, or even symbols. For example, \"hello\" and 'Python123!' are both strings.\n",
        "\n",
        "While both strings and lists are sequences (which means you can access elements by index, slice them, and loop through them), they are different in a few key ways:\n",
        "\n",
        "-a Data Type of Elements: A string is made up of characters, whereas a list can contain any type of data—integers, strings, floats, even other lists.\n",
        "\n",
        "-b Mutability: Strings are immutable, which means once you create a string, you cannot change its contents directly. Lists, on the other hand, are mutable—you can add, remove, or change items.\n",
        "\n",
        "7. How do tuples ensure data integrity in Python\n",
        "\n",
        "- Tuples help ensure data integrity in Python because they are immutable, meaning their contents cannot be changed after they are created. Once a tuple is defined, you cannot add, remove, or modify any of its elements. This immutability makes tuples a reliable way to store data that should remain constant throughout the program.\n",
        "\n",
        "By using tuples, you can prevent accidental changes to your data, which is especially useful when you're working with information that must stay fixed, such as geographic coordinates, configuration settings, or database keys. Because tuples cannot be altered, they protect the data from being modified unintentionally, which helps maintain consistency and stability in your code.\n",
        "\n",
        "8. What is a hash table, and how does it relate to dictionaries in Python\n",
        "\n",
        "- A hash table is a data structure used to store key-value pairs, where each key is hashed to produce a unique index that determines where the associated value is stored in memory. The hash function takes a key (like a string, number, or tuple) and computes a hash value—a unique number that corresponds to the key. This hash value is then used to determine where the value is stored in the table, allowing for fast lookups, insertions, and deletions.\n",
        "\n",
        "In Python, dictionaries are implemented using hash tables. Each dictionary entry is a key-value pair, and Python uses a hash function to calculate the hash value of the key, which determines where the value will be stored. When you access a value from a dictionary using its key (e.g., my_dict[key]), Python calculates the hash of the key to find the exact location of the corresponding value in memory.\n",
        "\n",
        "9. Can lists contain different data types in Python\n",
        "\n",
        "- Yes, lists in Python can contain different data types. This is one of the key features that makes lists very flexible. You can store items of various types—such as integers, strings, floats, booleans, and even other lists or objects—within a single list.\n",
        "\n",
        "10. Explain why strings are immutable in Python\n",
        "\n",
        "- Strings are immutable in Python to ensure efficiency, safety, and reliability. Immutability allows Python to optimize memory usage by sharing the same memory location for identical strings, making string handling faster and more memory-efficient. It also prevents accidental changes to strings, ensuring data consistency and avoiding unexpected side effects. Additionally, immutability makes strings hashable, meaning they can be used as keys in dictionaries and stored in sets, further enhancing their usefulness in various applications.\n",
        "\n",
        "11. What advantages do dictionaries offer over lists for certain tasks\n",
        "\n",
        "- Dictionaries offer several advantages over lists for tasks that involve fast lookups and associating data with unique keys. While lists are accessed by index, dictionaries allow you to access values directly using key-value pairs, making it much faster to retrieve data, especially for large collections. This is because dictionaries use a hash table for efficient key-based lookups. Additionally, dictionaries ensure unique keys, preventing duplicates, which is useful when you need to store structured data or when order isn't important but quick access is. Lists are better suited for ordered data, while dictionaries excel in scenarios where you need to map one piece of data to another efficiently.\n",
        "\n",
        "12. Describe a scenario where using a tuple would be preferable over a list\n",
        "\n",
        "- A tuple would be preferable over a list in a scenario where you need to store fixed, unchangeable data that should not be modified accidentally. For example, consider representing the coordinates of a location in a 2D space. Since the coordinates (e.g., latitude and longitude) are fixed and should not change during the program’s execution, using a tuple ensures data integrity by preventing accidental modification\n",
        "\n",
        "13. How do sets handle duplicate values in Python?\n",
        "\n",
        "- In Python, sets automatically handle duplicate values by removing them. A set is an unordered collection of unique elements, meaning that if you try to add a duplicate value to a set, it simply won’t be included. This behavior ensures that each element in a set is unique.\n",
        "\n",
        "14. How does the “in” keyword work differently for lists and dictionaries\n",
        "\n",
        "- The in keyword works differently for lists and dictionaries in Python. When used with a list, it checks if a specified value is present as an element in the list. For dictionaries, it checks if a specified key exists in the dictionary. In other words, for lists, in looks for the value, while for dictionaries, it looks for the key.\n",
        "\n",
        "15. Can you modify the elements of a tuple? Explain why or why not\n",
        "\n",
        "- No, you cannot modify the elements of a tuple because tuples are immutable in Python. Once a tuple is created, its contents cannot be changed—this includes adding, removing, or altering individual elements. The immutability of tuples is by design, as it ensures the integrity of the data, making it useful in situations where you want to guarantee that the values remain constant throughout the program.\n",
        "\n",
        "16. What is a nested dictionary, and give an example of its use caseA nested dictionary in Python is a dictionary where the values themselves are dictionaries. This allows you to create more complex, hierarchical data structures. Nested dictionaries are useful when you need to store and represent data that has multiple levels or categories.\n",
        "\n",
        "Example of a Nested Dictionary:\n",
        "Suppose you want to represent information about multiple employees in a company, with each employee having their personal details and job information. A nested dictionary could be used as follows:\n",
        "\n",
        "employees = {\n",
        "    \"emp1\": {\n",
        "        \"name\": \"Alice\",\n",
        "        \"age\": 30,\n",
        "        \"department\": \"HR\",\n",
        "        \"salary\": 50000\n",
        "    },\n",
        "    \"emp2\": {\n",
        "        \"name\": \"Bob\",\n",
        "        \"age\": 35,\n",
        "        \"department\": \"IT\",\n",
        "        \"salary\": 70000\n",
        "    },\n",
        "    \"emp3\": {\n",
        "        \"name\": \"Charlie\",\n",
        "        \"age\": 28,\n",
        "        \"department\": \"Finance\",\n",
        "        \"salary\": 60000\n",
        "    }\n",
        "}\n",
        "\n",
        "\n",
        "17. Describe the time complexity of accessing elements in a dictionary\n",
        "\n",
        "- Accessing elements in a Python dictionary generally has an average time complexity of O(1), meaning it takes constant time regardless of the dictionary's size. This is because dictionaries are implemented using hash tables, where the key's hash value determines the memory location of the corresponding value. However, in rare cases of hash collisions, the time complexity could degrade to O(n), but this is uncommon due to Python’s efficient collision handling.\n",
        "\n",
        "18. In what situations are lists preferred over dictionaries\n",
        "\n",
        "- Lists are preferred over dictionaries when you need an ordered collection of elements, when you need to access items using their index, or when you allow duplicate values. They are useful when the order of elements matters, such as in a queue or timeline, or when the data is simple and does not need key-value pairs. Lists are also ideal when the collection contains repeated values, as they don’t require unique identifiers like dictionaries.\n",
        "\n",
        "19. Why are dictionaries considered unordered, and how does that affect data retrieval\n",
        "\n",
        "- ictionaries are considered unordered because, in Python, the items are stored based on the hash values of their keys, not their insertion order. This means that, unlike lists, dictionaries do not guarantee that items will be retrieved in the order they were added. However, as of Python 3.7, dictionaries maintain insertion order for iteration purposes, though this doesn't change their underlying structure. The lack of order doesn't affect data retrieval since you access dictionary items using keys, not their position. This allows for efficient lookups, as Python directly computes the key’s hash to retrieve values in\n",
        "\n",
        "20. Explain the difference between a list and a dictionary in terms of data retrieval.\n",
        "\n",
        "- The main difference between a list and a dictionary in terms of data retrieval is how you access elements. In a list, data is retrieved using an index, which refers to the position of the element in the ordered sequence. This means you access items based on their position (e.g., my_list[0] for the first element). In a dictionary, data is retrieved using a key, which is a unique identifier for each value in the key-value pair. The key does not depend on position, so data retrieval is based on the key itself (e.g., my_dict[\"name\"] to access the value associated with the key \"name\"). While list access is index-based and sequential, dictionary access is key-based and more efficient, typically providing constant-time lookups.\n",
        "\n"
      ],
      "metadata": {
        "id": "Tevx39GlUFkd"
      }
    },
    {
      "cell_type": "code",
      "execution_count": 2,
      "metadata": {
        "colab": {
          "base_uri": "https://localhost:8080/"
        },
        "id": "tACkHOVyT4qS",
        "outputId": "ee5e5088-424e-48af-d13c-020781c79a6d"
      },
      "outputs": [
        {
          "output_type": "stream",
          "name": "stdout",
          "text": [
            "Aaqib malik\n"
          ]
        }
      ],
      "source": [
        "#1. Write a code to create a string with your name and print it\n",
        "\n",
        "name = \"Aaqib malik\"\n",
        "print(name)\n",
        "\n"
      ]
    },
    {
      "cell_type": "code",
      "source": [
        "#2.Write a code to find the length of the string \"Hello World\"\n",
        "string = \"Hello World\"\n",
        "print(len(string))"
      ],
      "metadata": {
        "colab": {
          "base_uri": "https://localhost:8080/"
        },
        "id": "wjOxrRlHcX1C",
        "outputId": "e448d176-b649-43f9-da6a-fc556566b074"
      },
      "execution_count": 3,
      "outputs": [
        {
          "output_type": "stream",
          "name": "stdout",
          "text": [
            "11\n"
          ]
        }
      ]
    },
    {
      "cell_type": "code",
      "source": [
        "#3.Write a code to slice the first 3 characters from the string \"Python Programming\n",
        "string = \"Python Programming\"\n",
        "print(string[:3])"
      ],
      "metadata": {
        "colab": {
          "base_uri": "https://localhost:8080/"
        },
        "id": "JvM2RQ5FciOS",
        "outputId": "e4b2b7e9-dfc4-4167-f724-fad8187400ff"
      },
      "execution_count": 4,
      "outputs": [
        {
          "output_type": "stream",
          "name": "stdout",
          "text": [
            "Pyt\n"
          ]
        }
      ]
    },
    {
      "cell_type": "code",
      "source": [
        "#4.Write a code to convert the string \"hello\" to uppercase\n",
        "string = \"hello\"\n",
        "print(string.upper())\n"
      ],
      "metadata": {
        "colab": {
          "base_uri": "https://localhost:8080/"
        },
        "id": "uqN4a8yncvnT",
        "outputId": "e8516d7c-eb72-4d1f-88ad-fc92a48eb368"
      },
      "execution_count": 5,
      "outputs": [
        {
          "output_type": "stream",
          "name": "stdout",
          "text": [
            "HELLO\n"
          ]
        }
      ]
    },
    {
      "cell_type": "code",
      "source": [
        "#5.Write a code to replace the word \"apple\" with \"orange\" in the string \"I like apple\"\n",
        "string = \"I like apple\"\n",
        "print(string.replace(\"apple\",\"orange\"))"
      ],
      "metadata": {
        "colab": {
          "base_uri": "https://localhost:8080/"
        },
        "id": "LuVFcsRYc9bi",
        "outputId": "97e52050-45d9-4d59-e6ec-453504d4b34c"
      },
      "execution_count": 6,
      "outputs": [
        {
          "output_type": "stream",
          "name": "stdout",
          "text": [
            "I like orange\n"
          ]
        }
      ]
    },
    {
      "cell_type": "code",
      "source": [
        "#6.Write a code to create a list with numbers 1 to 5 and print it\n",
        "list = [1,2,3,4,5]\n",
        "print(list)"
      ],
      "metadata": {
        "colab": {
          "base_uri": "https://localhost:8080/"
        },
        "id": "bOB5f7GBdGbr",
        "outputId": "1588c287-09ce-4688-932a-c3cdcd5fdab2"
      },
      "execution_count": 7,
      "outputs": [
        {
          "output_type": "stream",
          "name": "stdout",
          "text": [
            "[1, 2, 3, 4, 5]\n"
          ]
        }
      ]
    },
    {
      "cell_type": "code",
      "source": [
        "#7.Write a code to append the number 10 to the list [1, 2, 3, 4]\n",
        "list = [1,2,3,4]\n",
        "list.append(10)\n",
        "print(list)\n"
      ],
      "metadata": {
        "colab": {
          "base_uri": "https://localhost:8080/"
        },
        "id": "fo2h2KbWdRnp",
        "outputId": "0e1a64f8-565a-47fb-9989-839c169e0681"
      },
      "execution_count": 8,
      "outputs": [
        {
          "output_type": "stream",
          "name": "stdout",
          "text": [
            "[1, 2, 3, 4, 10]\n"
          ]
        }
      ]
    },
    {
      "cell_type": "code",
      "source": [
        "#8.Write a code to remove the number 3 from the list [1, 2, 3, 4, 5]\n",
        "list = [1,2,3,4,5]\n",
        "list.remove(3)\n",
        "print(list)\n"
      ],
      "metadata": {
        "colab": {
          "base_uri": "https://localhost:8080/"
        },
        "id": "UxkgygrdeUfD",
        "outputId": "6ea2eae3-79b1-426f-e462-dab30ad54734"
      },
      "execution_count": 9,
      "outputs": [
        {
          "output_type": "stream",
          "name": "stdout",
          "text": [
            "[1, 2, 4, 5]\n"
          ]
        }
      ]
    },
    {
      "cell_type": "code",
      "source": [
        "#9.Write a code to access the second element in the list ['a', 'b', 'c', 'd']\n",
        "list = ['a', 'b', 'c', 'd']\n",
        "print(list[1])"
      ],
      "metadata": {
        "colab": {
          "base_uri": "https://localhost:8080/"
        },
        "id": "CAiCyD54eieh",
        "outputId": "7b649ea9-779d-43e3-bd05-72ea108488eb"
      },
      "execution_count": 10,
      "outputs": [
        {
          "output_type": "stream",
          "name": "stdout",
          "text": [
            "b\n"
          ]
        }
      ]
    },
    {
      "cell_type": "code",
      "source": [
        "#10.Write a code to reverse the list [10, 20, 30, 40, 50].\n",
        "list = [10, 20, 30, 40, 50]\n",
        "print(list[::-1])\n"
      ],
      "metadata": {
        "id": "k0EiV-c7eyER"
      },
      "execution_count": null,
      "outputs": []
    },
    {
      "cell_type": "code",
      "source": [
        "#11. Write a code to create a tuple with the elements 100, 200, 300 and print it.\n",
        "tuple = (100,200,300)\n",
        "print(tuple)"
      ],
      "metadata": {
        "colab": {
          "base_uri": "https://localhost:8080/"
        },
        "id": "_N-SBpf7e_oE",
        "outputId": "9ca41b1e-e637-4301-8839-c555485b8f5e"
      },
      "execution_count": 11,
      "outputs": [
        {
          "output_type": "stream",
          "name": "stdout",
          "text": [
            "(100, 200, 300)\n"
          ]
        }
      ]
    },
    {
      "cell_type": "code",
      "source": [
        "#12. Write a code to access the second-to-last element of the tuple ('red', 'green', 'blue', 'yellow').\n",
        "tuple = ('red', 'green', 'blue', 'yellow')\n",
        "print(tuple[-2])\n"
      ],
      "metadata": {
        "id": "dlDTbPaEfPSJ"
      },
      "execution_count": null,
      "outputs": []
    },
    {
      "cell_type": "code",
      "source": [
        "#13. Write a code to find the minimum number in the tuple (10, 20, 5, 15).\n",
        "tuple = (10, 20, 5, 15)\n",
        "print(min(tuple))"
      ],
      "metadata": {
        "id": "mJn2ppZsfWLy"
      },
      "execution_count": null,
      "outputs": []
    },
    {
      "cell_type": "code",
      "source": [
        "#14.Write a code to find the index of the element \"cat\" in the tuple ('dog', 'cat', 'rabbit').\n",
        "tuple = ('dog', 'cat', 'rabbit')\n",
        "print(tuple.index(\"cat\"))"
      ],
      "metadata": {
        "id": "6bIRUBMPfh2I"
      },
      "execution_count": null,
      "outputs": []
    },
    {
      "cell_type": "code",
      "source": [
        "#15.. Write a code to create a tuple containing three different fruits and check if \"kiwi\" is in it.\n",
        "fruits = (\"apple\", \"banana\", \"orange\")\n",
        "print(\"kiwi\" in fruits)"
      ],
      "metadata": {
        "colab": {
          "base_uri": "https://localhost:8080/"
        },
        "id": "nBMn4xmJfnd4",
        "outputId": "9dbf4e54-86a7-49a0-c8c1-9d2884a45343"
      },
      "execution_count": 12,
      "outputs": [
        {
          "output_type": "stream",
          "name": "stdout",
          "text": [
            "False\n"
          ]
        }
      ]
    },
    {
      "cell_type": "code",
      "source": [
        "#16, Write a code to create a set with the elements 'a', 'b', 'c' and print it.\n",
        "set = {'a', 'b', 'c'}\n",
        "print(set)"
      ],
      "metadata": {
        "colab": {
          "base_uri": "https://localhost:8080/"
        },
        "id": "f3EE8xQqf_KR",
        "outputId": "193be4c6-fb78-45c2-f205-eadfeda67bd7"
      },
      "execution_count": 13,
      "outputs": [
        {
          "output_type": "stream",
          "name": "stdout",
          "text": [
            "{'a', 'c', 'b'}\n"
          ]
        }
      ]
    },
    {
      "cell_type": "code",
      "source": [
        "#17.Write a code to clear all elements from the set {1, 2, 3, 4, 5}.\n",
        "set = {1, 2, 3, 4, 5}\n",
        "set.clear()\n",
        "print(set)"
      ],
      "metadata": {
        "id": "jRb7wKZ8gDO6"
      },
      "execution_count": null,
      "outputs": []
    },
    {
      "cell_type": "code",
      "source": [
        "#18. Write a code to remove the element 4 from the set {1, 2, 3, 4}.\n",
        "set = {1, 2, 3, 4}\n",
        "set.remove(4)\n",
        "print(set)"
      ],
      "metadata": {
        "id": "UMH5xA-sgN6x"
      },
      "execution_count": null,
      "outputs": []
    },
    {
      "cell_type": "code",
      "source": [
        "#19. Write a code to find the union of two sets {1, 2, 3} and {3, 4, 5}.\n",
        "set1 = {1, 2, 3}\n",
        "set2 = {3, 4, 5}\n",
        "print(set1.union(set2))"
      ],
      "metadata": {
        "id": "Yis7EIGEgSCS"
      },
      "execution_count": null,
      "outputs": []
    },
    {
      "cell_type": "code",
      "source": [
        "#20. Write a code to find the intersection of two sets {1, 2, 3} and {2, 3, 4}.\n",
        "set1 = {1, 2, 3}\n",
        "set2 = {2, 3, 4}\n",
        "print(set1.intersection(set2))"
      ],
      "metadata": {
        "id": "bhSA0URTgWT7"
      },
      "execution_count": null,
      "outputs": []
    },
    {
      "cell_type": "code",
      "source": [
        "#21. Write a code to create a dictionary with the keys \"name\", \"age\", and \"city\", and print it.\n",
        "dict = {\"name\": \"Aaqib\", \"age\": 20, \"city\": \"Lahore\"}\n",
        "print(dict)"
      ],
      "metadata": {
        "id": "0BvDPSeGgaax"
      },
      "execution_count": null,
      "outputs": []
    },
    {
      "cell_type": "code",
      "source": [
        "#22. Write a code to add a new key-value pair \"country\": \"USA\" to the dictionary {'name': 'John', 'age': 25}.\n",
        "dict = {'name': 'John', 'age': 25}\n",
        "dict[\"country\"] = \"USA\"\n",
        "print(dict)"
      ],
      "metadata": {
        "id": "FLTXCDsjgfcA"
      },
      "execution_count": null,
      "outputs": []
    },
    {
      "cell_type": "code",
      "source": [
        "#23. Write a code to access the value associated with the key \"name\" in the dictionary {'name': 'Alice', 'age': 30}\n",
        "dict = {'name': 'Alice', 'age': 30}\n",
        "print(dict[\"name\"])"
      ],
      "metadata": {
        "id": "6ApnVXBvgmAo"
      },
      "execution_count": null,
      "outputs": []
    },
    {
      "cell_type": "code",
      "source": [
        "#24. Write a code to remove the key \"age\" from the dictionary {'name': 'Bob', 'age': 22, 'city': 'New York'}.\n",
        "dict = {'name': 'Bob', 'age': 22, 'city': 'New York'}\n",
        "del dict[\"age\"]\n",
        "print(dict)"
      ],
      "metadata": {
        "id": "NNXV3yaggqTg"
      },
      "execution_count": null,
      "outputs": []
    },
    {
      "cell_type": "code",
      "source": [
        "#25. . Write a code to check if the key \"city\" exists in the dictionary {'name': 'Alice', 'city': 'Paris'}.\n",
        "dict = {'name': 'Alice', 'city': 'Paris'}\n",
        "print(\"city\" in dict)"
      ],
      "metadata": {
        "id": "CnjX0d8cgvGB"
      },
      "execution_count": null,
      "outputs": []
    },
    {
      "cell_type": "code",
      "source": [
        "#26.. Write a code to create a list, a tuple, and a dictionary, and print them all.\n",
        "list = [1,2,3,4]\n",
        "print(list)"
      ],
      "metadata": {
        "id": "3ZByQj_Kg0Bq"
      },
      "execution_count": null,
      "outputs": []
    },
    {
      "cell_type": "code",
      "source": [
        "#27.Write a code to create a list of 5 random numbers between 1 and 100, sort it in ascending order, and print the result.(replaced)\n",
        "\\import random\n",
        "random_numbers = [random.randint(1, 100) for _ in range(5)]\n",
        "random_numbers.sort()\n",
        "print(random_numbers)"
      ],
      "metadata": {
        "id": "HwlSohQ3g57p"
      },
      "execution_count": null,
      "outputs": []
    },
    {
      "cell_type": "code",
      "source": [
        "#28.. Write a code to create a list with strings and print the element at the third index\n",
        "list = [\"apple\", \"banana\", \"orange\", \"grape\", \"kiwi\"]\n",
        "print(list[3])"
      ],
      "metadata": {
        "id": "7jiNdwsyhLPY"
      },
      "execution_count": null,
      "outputs": []
    },
    {
      "cell_type": "code",
      "source": [
        "#29. Write a code to combine two dictionaries into one and print the result.\n",
        "dict1 = {'a': 1, 'b': 2}\n",
        "dict2 = {'c': 3, 'd': 4}\n",
        "dict1.update(dict2)\n",
        "print(dict1)"
      ],
      "metadata": {
        "id": "vhexWavthQYY"
      },
      "execution_count": null,
      "outputs": []
    },
    {
      "cell_type": "code",
      "source": [
        "#30. Write a code to convert a list of strings into a set.\n",
        "list = [\"apple\", \"banana\", \"orange\", \"grape\", \"kiwi\"]\n",
        "set = set(list)\n",
        "print(set)"
      ],
      "metadata": {
        "id": "NaFOKj7Mhud6"
      },
      "execution_count": null,
      "outputs": []
    },
    {
      "cell_type": "markdown",
      "source": [],
      "metadata": {
        "id": "QAJLVqv1T-kx"
      }
    }
  ]
}